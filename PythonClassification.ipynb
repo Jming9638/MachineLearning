{
  "nbformat": 4,
  "nbformat_minor": 0,
  "metadata": {
    "colab": {
      "provenance": [],
      "authorship_tag": "ABX9TyM927k5hIebBiknBfnUiVvm",
      "include_colab_link": true
    },
    "kernelspec": {
      "name": "python3",
      "display_name": "Python 3"
    },
    "language_info": {
      "name": "python"
    }
  },
  "cells": [
    {
      "cell_type": "markdown",
      "metadata": {
        "id": "view-in-github",
        "colab_type": "text"
      },
      "source": [
        "<a href=\"https://colab.research.google.com/github/Jming9638/MachineLearning/blob/main/PythonClassification.ipynb\" target=\"_parent\"><img src=\"https://colab.research.google.com/assets/colab-badge.svg\" alt=\"Open In Colab\"/></a>"
      ]
    },
    {
      "cell_type": "code",
      "source": [
        "import pandas as pd\n",
        "import numpy as np\n",
        "import matplotlib.pyplot as plt\n",
        "import seaborn as sns\n",
        "import pickle\n",
        "\n",
        "from sklearn.preprocessing import LabelEncoder\n",
        "from sklearn.model_selection import train_test_split, cross_val_score\n",
        "from sklearn.metrics import confusion_matrix, classification_report, accuracy_score\n",
        "from sklearn.feature_extraction.text import CountVectorizer, TfidfVectorizer\n",
        "from sklearn.linear_model import LogisticRegression\n",
        "from sklearn.tree import DecisionTreeClassifier\n",
        "from sklearn.ensemble import RandomForestClassifier\n",
        "from sklearn.naive_bayes import GaussianNB, MultinomialNB\n",
        "from sklearn.neighbors import KNeighborsClassifier\n",
        "\n",
        "from imblearn.under_sampling import RandomUnderSampler\n",
        "from imblearn.over_sampling import RandomOverSampler"
      ],
      "metadata": {
        "id": "kbcg8W85j5Yd"
      },
      "execution_count": null,
      "outputs": []
    },
    {
      "cell_type": "markdown",
      "source": [
        "#Data Loader"
      ],
      "metadata": {
        "id": "3w_JittZniS9"
      }
    },
    {
      "cell_type": "code",
      "execution_count": null,
      "metadata": {
        "colab": {
          "base_uri": "https://localhost:8080/"
        },
        "id": "E2yMCvP5hz_A",
        "outputId": "e9b5812d-d131-4719-d950-dc131f8cd9d7"
      },
      "outputs": [
        {
          "output_type": "execute_result",
          "data": {
            "text/plain": [
              "Female    8995\n",
              "Male      4369\n",
              "Name: Gender, dtype: int64"
            ]
          },
          "metadata": {},
          "execution_count": 2
        }
      ],
      "source": [
        "from google.colab import auth\n",
        "import gspread\n",
        "from google.auth import default\n",
        "\n",
        "auth.authenticate_user()\n",
        "creds, _ = default()\n",
        "\n",
        "gc = gspread.authorize(creds)\n",
        "sh = gc.open('Race and Gender').worksheet('gender')\n",
        "rows = sh.get_all_values()\n",
        "gender = pd.DataFrame.from_records(data=rows[1:], columns=rows[0])\n",
        "gender = gender.drop_duplicates()\n",
        "gender['Gender'].value_counts()"
      ]
    },
    {
      "cell_type": "code",
      "source": [
        "gc = gspread.authorize(creds)\n",
        "sh = gc.open('Race and Gender').worksheet('race')\n",
        "rows = sh.get_all_values()\n",
        "race = pd.DataFrame.from_records(data=rows[1:], columns=rows[0])\n",
        "race = race.drop_duplicates()\n",
        "race['Race'].value_counts()"
      ],
      "metadata": {
        "colab": {
          "base_uri": "https://localhost:8080/"
        },
        "id": "p9eVQIEbj-U0",
        "outputId": "b6dcfab0-4552-4c68-cdc6-969313d304f6"
      },
      "execution_count": null,
      "outputs": [
        {
          "output_type": "execute_result",
          "data": {
            "text/plain": [
              "Chinese    6072\n",
              "Malay      3119\n",
              "Others     3114\n",
              "Indian     2236\n",
              "Name: Race, dtype: int64"
            ]
          },
          "metadata": {},
          "execution_count": 3
        }
      ]
    },
    {
      "cell_type": "markdown",
      "source": [
        "#Gender"
      ],
      "metadata": {
        "id": "SfU116UVnmvl"
      }
    },
    {
      "cell_type": "markdown",
      "source": [
        "##CountVectorizer"
      ],
      "metadata": {
        "id": "nhzFfPssxmh5"
      }
    },
    {
      "cell_type": "code",
      "source": [
        "X = gender['Name']\n",
        "y = gender['Gender']\n",
        "\n",
        "vec = CountVectorizer(analyzer='char', ngram_range=(2, 5), lowercase=True)\n",
        "X = vec.fit_transform(X)\n",
        "\n",
        "random_sampling = RandomUnderSampler(random_state=42)\n",
        "X_resampled, y_resampled = random_sampling.fit_resample(X, y)\n",
        "\n",
        "X_train, X_test, y_train, y_test = train_test_split(X_resampled, y_resampled, test_size=0.3, random_state=42)"
      ],
      "metadata": {
        "id": "vG4dXdEbnmRl"
      },
      "execution_count": null,
      "outputs": []
    },
    {
      "cell_type": "markdown",
      "source": [
        "###LogisticRegression"
      ],
      "metadata": {
        "id": "mqEyasIxxxVB"
      }
    },
    {
      "cell_type": "code",
      "source": [
        "model = LogisticRegression(max_iter=2000)\n",
        "model.fit(X_train, y_train)\n",
        "\n",
        "y_pred = model.predict(X_test)\n",
        "\n",
        "print('Model accuracy: {score}%'.format(score=round(accuracy_score(y_test, y_pred) * 100, 2)))\n",
        "print(confusion_matrix(y_test, y_pred))\n",
        "print(classification_report(y_test, y_pred))"
      ],
      "metadata": {
        "colab": {
          "base_uri": "https://localhost:8080/"
        },
        "id": "6maI06qTsGnY",
        "outputId": "09b40e1d-a5a0-452a-9ffc-4a49462fb7b9"
      },
      "execution_count": null,
      "outputs": [
        {
          "output_type": "stream",
          "name": "stdout",
          "text": [
            "Model accuracy: 84.1%\n",
            "[[1100  213]\n",
            " [ 204 1105]]\n",
            "              precision    recall  f1-score   support\n",
            "\n",
            "      Female       0.84      0.84      0.84      1313\n",
            "        Male       0.84      0.84      0.84      1309\n",
            "\n",
            "    accuracy                           0.84      2622\n",
            "   macro avg       0.84      0.84      0.84      2622\n",
            "weighted avg       0.84      0.84      0.84      2622\n",
            "\n"
          ]
        }
      ]
    },
    {
      "cell_type": "code",
      "source": [
        "# algorithm = 'Logistic Regression'\n",
        "# accuracy = accuracy_score(y_test, y_pred)\n",
        "\n",
        "# with open(\"gender_prediction.pkl\", \"wb\") as file:\n",
        "#     pickle.dump((model, algorithm, vec, accuracy), file)"
      ],
      "metadata": {
        "id": "tKwVyk_WG4FE"
      },
      "execution_count": null,
      "outputs": []
    },
    {
      "cell_type": "markdown",
      "source": [
        "###DecisionTreeClassifier"
      ],
      "metadata": {
        "id": "R61rshxNyfjx"
      }
    },
    {
      "cell_type": "code",
      "source": [
        "model = DecisionTreeClassifier()\n",
        "model.fit(X_train, y_train)\n",
        "\n",
        "y_pred = model.predict(X_test)\n",
        "\n",
        "print('Model accuracy: {score}%'.format(score=round(accuracy_score(y_test, y_pred) * 100, 2)))\n",
        "print(confusion_matrix(y_test, y_pred))\n",
        "print(classification_report(y_test, y_pred))"
      ],
      "metadata": {
        "id": "hUzxnzI8sGlf",
        "colab": {
          "base_uri": "https://localhost:8080/"
        },
        "outputId": "1566c01d-765e-4e3a-e5bf-15406fa68e92"
      },
      "execution_count": null,
      "outputs": [
        {
          "output_type": "stream",
          "name": "stdout",
          "text": [
            "Model accuracy: 75.82%\n",
            "[[ 965  348]\n",
            " [ 286 1023]]\n",
            "              precision    recall  f1-score   support\n",
            "\n",
            "      Female       0.77      0.73      0.75      1313\n",
            "        Male       0.75      0.78      0.76      1309\n",
            "\n",
            "    accuracy                           0.76      2622\n",
            "   macro avg       0.76      0.76      0.76      2622\n",
            "weighted avg       0.76      0.76      0.76      2622\n",
            "\n"
          ]
        }
      ]
    },
    {
      "cell_type": "markdown",
      "source": [
        "###RandomForestClassifier"
      ],
      "metadata": {
        "id": "HCaUi83wyiyB"
      }
    },
    {
      "cell_type": "code",
      "source": [
        "model = RandomForestClassifier()\n",
        "model.fit(X_train, y_train)\n",
        "\n",
        "y_pred = model.predict(X_test)\n",
        "\n",
        "print('Model accuracy: {score}%'.format(score=round(accuracy_score(y_test, y_pred) * 100, 2)))\n",
        "print(confusion_matrix(y_test, y_pred))\n",
        "print(classification_report(y_test, y_pred))"
      ],
      "metadata": {
        "id": "rWl12YNwsGjP",
        "colab": {
          "base_uri": "https://localhost:8080/"
        },
        "outputId": "58ce3444-b896-4942-866f-8a006c9e4b08"
      },
      "execution_count": null,
      "outputs": [
        {
          "output_type": "stream",
          "name": "stdout",
          "text": [
            "Model accuracy: 83.1%\n",
            "[[1084  229]\n",
            " [ 214 1095]]\n",
            "              precision    recall  f1-score   support\n",
            "\n",
            "      Female       0.84      0.83      0.83      1313\n",
            "        Male       0.83      0.84      0.83      1309\n",
            "\n",
            "    accuracy                           0.83      2622\n",
            "   macro avg       0.83      0.83      0.83      2622\n",
            "weighted avg       0.83      0.83      0.83      2622\n",
            "\n"
          ]
        }
      ]
    },
    {
      "cell_type": "markdown",
      "source": [
        "###NaiveBayes"
      ],
      "metadata": {
        "id": "d8znR_mQ8RhN"
      }
    },
    {
      "cell_type": "code",
      "source": [
        "model = GaussianNB()\n",
        "model.fit(X_train.toarray(), y_train)\n",
        "\n",
        "y_pred = model.predict(X_test.toarray())\n",
        "\n",
        "print('Model accuracy: {score}%'.format(score=round(accuracy_score(y_test, y_pred) * 100, 2)))\n",
        "print(confusion_matrix(y_test, y_pred))\n",
        "print(classification_report(y_test, y_pred))"
      ],
      "metadata": {
        "id": "5ugRkJ_n8VM-",
        "colab": {
          "base_uri": "https://localhost:8080/"
        },
        "outputId": "ab12d996-cb82-4e42-9217-f5af548bd240"
      },
      "execution_count": null,
      "outputs": [
        {
          "output_type": "stream",
          "name": "stdout",
          "text": [
            "Model accuracy: 76.54%\n",
            "[[1052  261]\n",
            " [ 354  955]]\n",
            "              precision    recall  f1-score   support\n",
            "\n",
            "      Female       0.75      0.80      0.77      1313\n",
            "        Male       0.79      0.73      0.76      1309\n",
            "\n",
            "    accuracy                           0.77      2622\n",
            "   macro avg       0.77      0.77      0.77      2622\n",
            "weighted avg       0.77      0.77      0.77      2622\n",
            "\n"
          ]
        }
      ]
    },
    {
      "cell_type": "markdown",
      "source": [
        "###KNN"
      ],
      "metadata": {
        "id": "uIzSAINM1jNC"
      }
    },
    {
      "cell_type": "code",
      "source": [
        "model = KNeighborsClassifier(n_neighbors=5)\n",
        "model.fit(X_train, y_train)\n",
        "\n",
        "y_pred = model.predict(X_test)\n",
        "\n",
        "print('Model accuracy: {score}%'.format(score=round(accuracy_score(y_test, y_pred) * 100, 2)))\n",
        "print(confusion_matrix(y_test, y_pred))\n",
        "print(classification_report(y_test, y_pred))"
      ],
      "metadata": {
        "id": "fdsg__uf1i5j",
        "colab": {
          "base_uri": "https://localhost:8080/"
        },
        "outputId": "852ebc09-2eca-44ce-f331-a5eabb30bc11"
      },
      "execution_count": null,
      "outputs": [
        {
          "output_type": "stream",
          "name": "stdout",
          "text": [
            "Model accuracy: 64.84%\n",
            "[[947 366]\n",
            " [556 753]]\n",
            "              precision    recall  f1-score   support\n",
            "\n",
            "      Female       0.63      0.72      0.67      1313\n",
            "        Male       0.67      0.58      0.62      1309\n",
            "\n",
            "    accuracy                           0.65      2622\n",
            "   macro avg       0.65      0.65      0.65      2622\n",
            "weighted avg       0.65      0.65      0.65      2622\n",
            "\n"
          ]
        }
      ]
    },
    {
      "cell_type": "markdown",
      "source": [
        "##TfidfVectorizer"
      ],
      "metadata": {
        "id": "RKjo9QmmxlVx"
      }
    },
    {
      "cell_type": "code",
      "source": [
        "X = gender['Name']\n",
        "y = gender['Gender']\n",
        "\n",
        "vec = TfidfVectorizer(analyzer='char', ngram_range=(2, 5), lowercase=True)\n",
        "X = vec.fit_transform(X)\n",
        "\n",
        "random_sampling = RandomUnderSampler(random_state=42)\n",
        "X_resampled, y_resampled = random_sampling.fit_resample(X, y)\n",
        "\n",
        "X_train, X_test, y_train, y_test = train_test_split(X_resampled, y_resampled, test_size=0.3, random_state=42)"
      ],
      "metadata": {
        "id": "4lyoxea8wvrQ"
      },
      "execution_count": null,
      "outputs": []
    },
    {
      "cell_type": "markdown",
      "source": [
        "###LogisticRegression"
      ],
      "metadata": {
        "id": "X39FkwsyyAih"
      }
    },
    {
      "cell_type": "code",
      "source": [
        "model = LogisticRegression(max_iter=2000)\n",
        "model.fit(X_train, y_train)\n",
        "\n",
        "y_pred = model.predict(X_test)\n",
        "\n",
        "print('Model accuracy: {score}%'.format(score=round(accuracy_score(y_test, y_pred) * 100, 2)))\n",
        "print(confusion_matrix(y_test, y_pred))\n",
        "print(classification_report(y_test, y_pred))"
      ],
      "metadata": {
        "id": "7zCM9hctyAxh",
        "colab": {
          "base_uri": "https://localhost:8080/"
        },
        "outputId": "9bdb5746-905d-4b71-88e4-bd2993680a8f"
      },
      "execution_count": null,
      "outputs": [
        {
          "output_type": "stream",
          "name": "stdout",
          "text": [
            "Model accuracy: 84.06%\n",
            "[[1080  233]\n",
            " [ 185 1124]]\n",
            "              precision    recall  f1-score   support\n",
            "\n",
            "      Female       0.85      0.82      0.84      1313\n",
            "        Male       0.83      0.86      0.84      1309\n",
            "\n",
            "    accuracy                           0.84      2622\n",
            "   macro avg       0.84      0.84      0.84      2622\n",
            "weighted avg       0.84      0.84      0.84      2622\n",
            "\n"
          ]
        }
      ]
    },
    {
      "cell_type": "markdown",
      "source": [
        "###DecisionTreeClassifier"
      ],
      "metadata": {
        "id": "JmNSbXUBydxh"
      }
    },
    {
      "cell_type": "code",
      "source": [
        "model = DecisionTreeClassifier()\n",
        "model.fit(X_train, y_train)\n",
        "\n",
        "y_pred = model.predict(X_test)\n",
        "\n",
        "print('Model accuracy: {score}%'.format(score=round(accuracy_score(y_test, y_pred) * 100, 2)))\n",
        "print(confusion_matrix(y_test, y_pred))\n",
        "print(classification_report(y_test, y_pred))"
      ],
      "metadata": {
        "id": "ACBcRz5BydYb",
        "colab": {
          "base_uri": "https://localhost:8080/"
        },
        "outputId": "f055cff4-4ccd-4de8-8d52-ffe94055ca82"
      },
      "execution_count": null,
      "outputs": [
        {
          "output_type": "stream",
          "name": "stdout",
          "text": [
            "Model accuracy: 73.34%\n",
            "[[956 357]\n",
            " [342 967]]\n",
            "              precision    recall  f1-score   support\n",
            "\n",
            "      Female       0.74      0.73      0.73      1313\n",
            "        Male       0.73      0.74      0.73      1309\n",
            "\n",
            "    accuracy                           0.73      2622\n",
            "   macro avg       0.73      0.73      0.73      2622\n",
            "weighted avg       0.73      0.73      0.73      2622\n",
            "\n"
          ]
        }
      ]
    },
    {
      "cell_type": "markdown",
      "source": [
        "###RandomForestClassifier"
      ],
      "metadata": {
        "id": "BtAulx36yeDh"
      }
    },
    {
      "cell_type": "code",
      "source": [
        "model = RandomForestClassifier()\n",
        "model.fit(X_train, y_train)\n",
        "\n",
        "y_pred = model.predict(X_test)\n",
        "\n",
        "print('Model accuracy: {score}%'.format(score=round(accuracy_score(y_test, y_pred) * 100, 2)))\n",
        "print(confusion_matrix(y_test, y_pred))\n",
        "print(classification_report(y_test, y_pred))"
      ],
      "metadata": {
        "id": "vQQLSCoCydTJ",
        "colab": {
          "base_uri": "https://localhost:8080/"
        },
        "outputId": "d6ce6f74-a925-431a-c66b-1da130a155c8"
      },
      "execution_count": null,
      "outputs": [
        {
          "output_type": "stream",
          "name": "stdout",
          "text": [
            "Model accuracy: 83.1%\n",
            "[[1050  263]\n",
            " [ 180 1129]]\n",
            "              precision    recall  f1-score   support\n",
            "\n",
            "      Female       0.85      0.80      0.83      1313\n",
            "        Male       0.81      0.86      0.84      1309\n",
            "\n",
            "    accuracy                           0.83      2622\n",
            "   macro avg       0.83      0.83      0.83      2622\n",
            "weighted avg       0.83      0.83      0.83      2622\n",
            "\n"
          ]
        }
      ]
    },
    {
      "cell_type": "markdown",
      "source": [
        "###NaiveBayes"
      ],
      "metadata": {
        "id": "MmvscZqS9O-9"
      }
    },
    {
      "cell_type": "code",
      "source": [
        "model = GaussianNB()\n",
        "model.fit(X_train.toarray(), y_train)\n",
        "\n",
        "y_pred = model.predict(X_test.toarray())\n",
        "\n",
        "print('Model accuracy: {score}%'.format(score=round(accuracy_score(y_test, y_pred) * 100, 2)))\n",
        "print(confusion_matrix(y_test, y_pred))\n",
        "print(classification_report(y_test, y_pred))"
      ],
      "metadata": {
        "id": "wT3li7K79Qid",
        "colab": {
          "base_uri": "https://localhost:8080/"
        },
        "outputId": "7d16ce66-6eda-4381-816e-6a7c3c67c236"
      },
      "execution_count": null,
      "outputs": [
        {
          "output_type": "stream",
          "name": "stdout",
          "text": [
            "Model accuracy: 75.1%\n",
            "[[993 320]\n",
            " [333 976]]\n",
            "              precision    recall  f1-score   support\n",
            "\n",
            "      Female       0.75      0.76      0.75      1313\n",
            "        Male       0.75      0.75      0.75      1309\n",
            "\n",
            "    accuracy                           0.75      2622\n",
            "   macro avg       0.75      0.75      0.75      2622\n",
            "weighted avg       0.75      0.75      0.75      2622\n",
            "\n"
          ]
        }
      ]
    },
    {
      "cell_type": "markdown",
      "source": [
        "###KNN"
      ],
      "metadata": {
        "id": "7JY-CrAC32hD"
      }
    },
    {
      "cell_type": "code",
      "source": [
        "model = KNeighborsClassifier(n_neighbors=5)\n",
        "model.fit(X_train, y_train)\n",
        "\n",
        "y_pred = model.predict(X_test)\n",
        "\n",
        "print('Model accuracy: {score}%'.format(score=round(accuracy_score(y_test, y_pred) * 100, 2)))\n",
        "print(confusion_matrix(y_test, y_pred))\n",
        "print(classification_report(y_test, y_pred))"
      ],
      "metadata": {
        "id": "B70CpfO-33zT",
        "colab": {
          "base_uri": "https://localhost:8080/"
        },
        "outputId": "44039228-31e7-4a10-fa08-337db8983c8b"
      },
      "execution_count": null,
      "outputs": [
        {
          "output_type": "stream",
          "name": "stdout",
          "text": [
            "Model accuracy: 77.23%\n",
            "[[ 994  319]\n",
            " [ 278 1031]]\n",
            "              precision    recall  f1-score   support\n",
            "\n",
            "      Female       0.78      0.76      0.77      1313\n",
            "        Male       0.76      0.79      0.78      1309\n",
            "\n",
            "    accuracy                           0.77      2622\n",
            "   macro avg       0.77      0.77      0.77      2622\n",
            "weighted avg       0.77      0.77      0.77      2622\n",
            "\n"
          ]
        }
      ]
    },
    {
      "cell_type": "markdown",
      "source": [
        "#Race"
      ],
      "metadata": {
        "id": "luIyziWXnowd"
      }
    },
    {
      "cell_type": "markdown",
      "source": [
        "##CountVectorizer"
      ],
      "metadata": {
        "id": "3IOZsYk80PrK"
      }
    },
    {
      "cell_type": "code",
      "source": [
        "X = race['Name']\n",
        "y = race['Race']\n",
        "\n",
        "vec = CountVectorizer(analyzer='char', ngram_range=(2, 5), lowercase=True)\n",
        "X = vec.fit_transform(X)\n",
        "\n",
        "random_sampling = RandomUnderSampler(random_state=42)\n",
        "X_resampled, y_resampled = random_sampling.fit_resample(X, y)\n",
        "\n",
        "X_train, X_test, y_train, y_test = train_test_split(X_resampled, y_resampled, test_size=0.3, random_state=42)"
      ],
      "metadata": {
        "id": "0R4iwGQRndy9"
      },
      "execution_count": null,
      "outputs": []
    },
    {
      "cell_type": "markdown",
      "source": [
        "###LogisticRegression"
      ],
      "metadata": {
        "id": "Sdl_5BhI0VsS"
      }
    },
    {
      "cell_type": "code",
      "source": [
        "model = LogisticRegression(max_iter=2000)\n",
        "model.fit(X_train, y_train)\n",
        "\n",
        "y_pred = model.predict(X_test)\n",
        "\n",
        "print('Model accuracy: {score}%'.format(score=round(accuracy_score(y_test, y_pred) * 100, 2)))\n",
        "print(confusion_matrix(y_test, y_pred))\n",
        "print(classification_report(y_test, y_pred))"
      ],
      "metadata": {
        "id": "o_aK771pndwu",
        "colab": {
          "base_uri": "https://localhost:8080/"
        },
        "outputId": "fa6a7608-31f5-4a02-fa27-2ee7a30e0bbb"
      },
      "execution_count": null,
      "outputs": [
        {
          "output_type": "stream",
          "name": "stdout",
          "text": [
            "Model accuracy: 78.28%\n",
            "[[655   8  13  11]\n",
            " [ 14 497  35 108]\n",
            " [ 10  33 524  95]\n",
            " [ 33 127  96 425]]\n",
            "              precision    recall  f1-score   support\n",
            "\n",
            "     Chinese       0.92      0.95      0.94       687\n",
            "      Indian       0.75      0.76      0.75       654\n",
            "       Malay       0.78      0.79      0.79       662\n",
            "      Others       0.67      0.62      0.64       681\n",
            "\n",
            "    accuracy                           0.78      2684\n",
            "   macro avg       0.78      0.78      0.78      2684\n",
            "weighted avg       0.78      0.78      0.78      2684\n",
            "\n"
          ]
        }
      ]
    },
    {
      "cell_type": "markdown",
      "source": [
        "###DecisionTreeClassifier"
      ],
      "metadata": {
        "id": "vbCSj5XU0QxK"
      }
    },
    {
      "cell_type": "code",
      "source": [
        "model = DecisionTreeClassifier()\n",
        "model.fit(X_train, y_train)\n",
        "\n",
        "y_pred = model.predict(X_test)\n",
        "\n",
        "print('Model accuracy: {score}%'.format(score=round(accuracy_score(y_test, y_pred) * 100, 2)))\n",
        "print(confusion_matrix(y_test, y_pred))\n",
        "print(classification_report(y_test, y_pred))"
      ],
      "metadata": {
        "id": "ZdSz7PKonqnN",
        "colab": {
          "base_uri": "https://localhost:8080/"
        },
        "outputId": "e8c82fe5-f796-4cd6-a65d-7ef95b41e1e9"
      },
      "execution_count": null,
      "outputs": [
        {
          "output_type": "stream",
          "name": "stdout",
          "text": [
            "Model accuracy: 67.66%\n",
            "[[599  24  24  40]\n",
            " [ 26 411  54 163]\n",
            " [ 22  57 482 101]\n",
            " [ 77 155 125 324]]\n",
            "              precision    recall  f1-score   support\n",
            "\n",
            "     Chinese       0.83      0.87      0.85       687\n",
            "      Indian       0.64      0.63      0.63       654\n",
            "       Malay       0.70      0.73      0.72       662\n",
            "      Others       0.52      0.48      0.50       681\n",
            "\n",
            "    accuracy                           0.68      2684\n",
            "   macro avg       0.67      0.68      0.67      2684\n",
            "weighted avg       0.67      0.68      0.67      2684\n",
            "\n"
          ]
        }
      ]
    },
    {
      "cell_type": "markdown",
      "source": [
        "###RandomForestClassifier"
      ],
      "metadata": {
        "id": "yhx_BfT40Y66"
      }
    },
    {
      "cell_type": "code",
      "source": [
        "model = RandomForestClassifier()\n",
        "model.fit(X_train, y_train)\n",
        "\n",
        "y_pred = model.predict(X_test)\n",
        "\n",
        "print('Model accuracy: {score}%'.format(score=round(accuracy_score(y_test, y_pred) * 100, 2)))\n",
        "print(confusion_matrix(y_test, y_pred))\n",
        "print(classification_report(y_test, y_pred))"
      ],
      "metadata": {
        "colab": {
          "base_uri": "https://localhost:8080/"
        },
        "id": "my5Oh_Yb0F-6",
        "outputId": "4b363b5e-76a4-40e9-a265-2c307a622bbf"
      },
      "execution_count": null,
      "outputs": [
        {
          "output_type": "stream",
          "name": "stdout",
          "text": [
            "Model accuracy: 76.45%\n",
            "[[657   8  11  11]\n",
            " [ 21 508  37  88]\n",
            " [ 22  32 555  53]\n",
            " [ 68 179 102 332]]\n",
            "              precision    recall  f1-score   support\n",
            "\n",
            "     Chinese       0.86      0.96      0.90       687\n",
            "      Indian       0.70      0.78      0.74       654\n",
            "       Malay       0.79      0.84      0.81       662\n",
            "      Others       0.69      0.49      0.57       681\n",
            "\n",
            "    accuracy                           0.76      2684\n",
            "   macro avg       0.76      0.76      0.76      2684\n",
            "weighted avg       0.76      0.76      0.76      2684\n",
            "\n"
          ]
        }
      ]
    },
    {
      "cell_type": "markdown",
      "source": [
        "###NaiveBayes"
      ],
      "metadata": {
        "id": "yktZCbAR9b29"
      }
    },
    {
      "cell_type": "code",
      "source": [
        "model = GaussianNB()\n",
        "model.fit(X_train.toarray(), y_train)\n",
        "\n",
        "y_pred = model.predict(X_test.toarray())\n",
        "\n",
        "print('Model accuracy: {score}%'.format(score=round(accuracy_score(y_test, y_pred) * 100, 2)))\n",
        "print(confusion_matrix(y_test, y_pred))\n",
        "print(classification_report(y_test, y_pred))"
      ],
      "metadata": {
        "id": "edV0pGiV9df4",
        "colab": {
          "base_uri": "https://localhost:8080/"
        },
        "outputId": "32c68eb2-5b9f-47d9-d926-f020b5f54c8c"
      },
      "execution_count": null,
      "outputs": [
        {
          "output_type": "stream",
          "name": "stdout",
          "text": [
            "Model accuracy: 76.94%\n",
            "[[635  16  13  23]\n",
            " [  7 494  51 102]\n",
            " [ 10  25 532  95]\n",
            " [ 27 149 101 404]]\n",
            "              precision    recall  f1-score   support\n",
            "\n",
            "     Chinese       0.94      0.92      0.93       687\n",
            "      Indian       0.72      0.76      0.74       654\n",
            "       Malay       0.76      0.80      0.78       662\n",
            "      Others       0.65      0.59      0.62       681\n",
            "\n",
            "    accuracy                           0.77      2684\n",
            "   macro avg       0.77      0.77      0.77      2684\n",
            "weighted avg       0.77      0.77      0.77      2684\n",
            "\n"
          ]
        }
      ]
    },
    {
      "cell_type": "markdown",
      "source": [
        "###KNN"
      ],
      "metadata": {
        "id": "lLENL_b0351D"
      }
    },
    {
      "cell_type": "code",
      "source": [
        "model = KNeighborsClassifier(n_neighbors=5)\n",
        "model.fit(X_train, y_train)\n",
        "\n",
        "y_pred = model.predict(X_test)\n",
        "\n",
        "print('Model accuracy: {score}%'.format(score=round(accuracy_score(y_test, y_pred) * 100, 2)))\n",
        "print(confusion_matrix(y_test, y_pred))\n",
        "print(classification_report(y_test, y_pred))"
      ],
      "metadata": {
        "id": "n561Ym6s3667",
        "colab": {
          "base_uri": "https://localhost:8080/"
        },
        "outputId": "d4c1ca39-4647-48c2-d591-fc1ceb8d9eab"
      },
      "execution_count": null,
      "outputs": [
        {
          "output_type": "stream",
          "name": "stdout",
          "text": [
            "Model accuracy: 56.74%\n",
            "[[649   8  11  19]\n",
            " [200 321  57  76]\n",
            " [144  58 399  61]\n",
            " [237 167 123 154]]\n",
            "              precision    recall  f1-score   support\n",
            "\n",
            "     Chinese       0.53      0.94      0.68       687\n",
            "      Indian       0.58      0.49      0.53       654\n",
            "       Malay       0.68      0.60      0.64       662\n",
            "      Others       0.50      0.23      0.31       681\n",
            "\n",
            "    accuracy                           0.57      2684\n",
            "   macro avg       0.57      0.57      0.54      2684\n",
            "weighted avg       0.57      0.57      0.54      2684\n",
            "\n"
          ]
        }
      ]
    },
    {
      "cell_type": "markdown",
      "source": [
        "##TfidfVectorizer"
      ],
      "metadata": {
        "id": "vL_7BJy90oze"
      }
    },
    {
      "cell_type": "code",
      "source": [
        "X = race['Name']\n",
        "y = race['Race']\n",
        "\n",
        "vec = TfidfVectorizer(analyzer='char', ngram_range=(2, 5), lowercase=True)\n",
        "X = vec.fit_transform(X)\n",
        "\n",
        "random_sampling = RandomUnderSampler(random_state=42)\n",
        "X_resampled, y_resampled = random_sampling.fit_resample(X, y)\n",
        "\n",
        "X_train, X_test, y_train, y_test = train_test_split(X_resampled, y_resampled, test_size=0.3, random_state=42)"
      ],
      "metadata": {
        "id": "ug0YKJbT0oze"
      },
      "execution_count": null,
      "outputs": []
    },
    {
      "cell_type": "markdown",
      "source": [
        "###LogisticRegression"
      ],
      "metadata": {
        "id": "9rhSEWu_0oze"
      }
    },
    {
      "cell_type": "code",
      "source": [
        "model = LogisticRegression(max_iter=2000)\n",
        "model.fit(X_train, y_train)\n",
        "\n",
        "y_pred = model.predict(X_test)\n",
        "\n",
        "print('Model accuracy: {score}%'.format(score=round(accuracy_score(y_test, y_pred) * 100, 2)))\n",
        "print(confusion_matrix(y_test, y_pred))\n",
        "print(classification_report(y_test, y_pred))"
      ],
      "metadata": {
        "id": "n-BLijgI0oze",
        "colab": {
          "base_uri": "https://localhost:8080/"
        },
        "outputId": "9283e805-a737-4f9c-8ff4-a36280072f68"
      },
      "execution_count": null,
      "outputs": [
        {
          "output_type": "stream",
          "name": "stdout",
          "text": [
            "Model accuracy: 79.36%\n",
            "[[648   7  11  21]\n",
            " [  8 491  30 125]\n",
            " [ 11  24 533  94]\n",
            " [ 32 111  80 458]]\n",
            "              precision    recall  f1-score   support\n",
            "\n",
            "     Chinese       0.93      0.94      0.94       687\n",
            "      Indian       0.78      0.75      0.76       654\n",
            "       Malay       0.81      0.81      0.81       662\n",
            "      Others       0.66      0.67      0.66       681\n",
            "\n",
            "    accuracy                           0.79      2684\n",
            "   macro avg       0.79      0.79      0.79      2684\n",
            "weighted avg       0.79      0.79      0.79      2684\n",
            "\n"
          ]
        }
      ]
    },
    {
      "cell_type": "markdown",
      "source": [
        "###DecisionTreeClassifier"
      ],
      "metadata": {
        "id": "p14RF4YD0ozf"
      }
    },
    {
      "cell_type": "code",
      "source": [
        "model = DecisionTreeClassifier()\n",
        "model.fit(X_train, y_train)\n",
        "\n",
        "y_pred = model.predict(X_test)\n",
        "\n",
        "print('Model accuracy: {score}%'.format(score=round(accuracy_score(y_test, y_pred) * 100, 2)))\n",
        "print(confusion_matrix(y_test, y_pred))\n",
        "print(classification_report(y_test, y_pred))"
      ],
      "metadata": {
        "id": "zSLzVGWR0ozf",
        "colab": {
          "base_uri": "https://localhost:8080/"
        },
        "outputId": "3188a789-27c4-4398-d7a1-7b0ad0d86fb9"
      },
      "execution_count": null,
      "outputs": [
        {
          "output_type": "stream",
          "name": "stdout",
          "text": [
            "Model accuracy: 66.92%\n",
            "[[583  28  30  46]\n",
            " [ 25 429  56 144]\n",
            " [ 28  47 471 116]\n",
            " [ 62 168 138 313]]\n",
            "              precision    recall  f1-score   support\n",
            "\n",
            "     Chinese       0.84      0.85      0.84       687\n",
            "      Indian       0.64      0.66      0.65       654\n",
            "       Malay       0.68      0.71      0.69       662\n",
            "      Others       0.51      0.46      0.48       681\n",
            "\n",
            "    accuracy                           0.67      2684\n",
            "   macro avg       0.66      0.67      0.67      2684\n",
            "weighted avg       0.66      0.67      0.67      2684\n",
            "\n"
          ]
        }
      ]
    },
    {
      "cell_type": "markdown",
      "source": [
        "###RandomForestClassifier"
      ],
      "metadata": {
        "id": "gUUkWOd50ozf"
      }
    },
    {
      "cell_type": "code",
      "source": [
        "model = RandomForestClassifier()\n",
        "model.fit(X_train, y_train)\n",
        "\n",
        "y_pred = model.predict(X_test)\n",
        "\n",
        "print('Model accuracy: {score}%'.format(score=round(accuracy_score(y_test, y_pred) * 100, 2)))\n",
        "print(confusion_matrix(y_test, y_pred))\n",
        "print(classification_report(y_test, y_pred))"
      ],
      "metadata": {
        "colab": {
          "base_uri": "https://localhost:8080/"
        },
        "outputId": "810c294b-48df-4c02-f9ab-d60bcbe796ce",
        "id": "-xGnYwpL0ozf"
      },
      "execution_count": null,
      "outputs": [
        {
          "output_type": "stream",
          "name": "stdout",
          "text": [
            "Model accuracy: 78.58%\n",
            "[[656   9   6  16]\n",
            " [ 15 481  31 127]\n",
            " [ 21  33 541  67]\n",
            " [ 42 120  88 431]]\n",
            "              precision    recall  f1-score   support\n",
            "\n",
            "     Chinese       0.89      0.95      0.92       687\n",
            "      Indian       0.75      0.74      0.74       654\n",
            "       Malay       0.81      0.82      0.81       662\n",
            "      Others       0.67      0.63      0.65       681\n",
            "\n",
            "    accuracy                           0.79      2684\n",
            "   macro avg       0.78      0.79      0.78      2684\n",
            "weighted avg       0.78      0.79      0.78      2684\n",
            "\n"
          ]
        }
      ]
    },
    {
      "cell_type": "code",
      "source": [
        "# algorithm = 'Random Forest Classifier'\n",
        "# accuracy = accuracy_score(y_test, y_pred)\n",
        "\n",
        "# with open(\"race_prediction.pkl\", \"wb\") as file:\n",
        "#     pickle.dump((model, algorithm, vec, accuracy), file)"
      ],
      "metadata": {
        "id": "xFTtZOQyI0n2"
      },
      "execution_count": null,
      "outputs": []
    },
    {
      "cell_type": "markdown",
      "source": [
        "###NaiveBayes"
      ],
      "metadata": {
        "id": "ThEjp7PN9hI9"
      }
    },
    {
      "cell_type": "code",
      "source": [
        "model = GaussianNB()\n",
        "model.fit(X_train.toarray(), y_train)\n",
        "\n",
        "y_pred = model.predict(X_test.toarray())\n",
        "\n",
        "print('Model accuracy: {score}%'.format(score=round(accuracy_score(y_test, y_pred) * 100, 2)))\n",
        "print(confusion_matrix(y_test, y_pred))\n",
        "print(classification_report(y_test, y_pred))"
      ],
      "metadata": {
        "id": "x65Wh07I9gSV",
        "colab": {
          "base_uri": "https://localhost:8080/"
        },
        "outputId": "d8ec3ea9-feab-4d12-fa6d-619dda1a2907"
      },
      "execution_count": null,
      "outputs": [
        {
          "output_type": "stream",
          "name": "stdout",
          "text": [
            "Model accuracy: 75.78%\n",
            "[[616  19  14  38]\n",
            " [  8 481  51 114]\n",
            " [  9  30 516 107]\n",
            " [ 26 139  95 421]]\n",
            "              precision    recall  f1-score   support\n",
            "\n",
            "     Chinese       0.93      0.90      0.92       687\n",
            "      Indian       0.72      0.74      0.73       654\n",
            "       Malay       0.76      0.78      0.77       662\n",
            "      Others       0.62      0.62      0.62       681\n",
            "\n",
            "    accuracy                           0.76      2684\n",
            "   macro avg       0.76      0.76      0.76      2684\n",
            "weighted avg       0.76      0.76      0.76      2684\n",
            "\n"
          ]
        }
      ]
    },
    {
      "cell_type": "markdown",
      "source": [
        "###KNN"
      ],
      "metadata": {
        "id": "XmqBMQYO39Mj"
      }
    },
    {
      "cell_type": "code",
      "source": [
        "model = KNeighborsClassifier(n_neighbors=5)\n",
        "model.fit(X_train, y_train)\n",
        "\n",
        "y_pred = model.predict(X_test)\n",
        "\n",
        "print('Model accuracy: {score}%'.format(score=round(accuracy_score(y_test, y_pred) * 100, 2)))\n",
        "print(confusion_matrix(y_test, y_pred))\n",
        "print(classification_report(y_test, y_pred))"
      ],
      "metadata": {
        "id": "7nip3tEW3-Qj",
        "colab": {
          "base_uri": "https://localhost:8080/"
        },
        "outputId": "bba89d7f-e093-4d28-d04e-f142213f6fda"
      },
      "execution_count": null,
      "outputs": [
        {
          "output_type": "stream",
          "name": "stdout",
          "text": [
            "Model accuracy: 75.48%\n",
            "[[655  14  10   8]\n",
            " [ 32 515  48  59]\n",
            " [ 23  41 568  30]\n",
            " [ 85 155 153 288]]\n",
            "              precision    recall  f1-score   support\n",
            "\n",
            "     Chinese       0.82      0.95      0.88       687\n",
            "      Indian       0.71      0.79      0.75       654\n",
            "       Malay       0.73      0.86      0.79       662\n",
            "      Others       0.75      0.42      0.54       681\n",
            "\n",
            "    accuracy                           0.75      2684\n",
            "   macro avg       0.75      0.76      0.74      2684\n",
            "weighted avg       0.75      0.75      0.74      2684\n",
            "\n"
          ]
        }
      ]
    }
  ]
}